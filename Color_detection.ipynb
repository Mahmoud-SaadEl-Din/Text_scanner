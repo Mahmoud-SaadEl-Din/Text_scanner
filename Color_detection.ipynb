{
 "cells": [
  {
   "cell_type": "code",
   "execution_count": 1,
   "metadata": {},
   "outputs": [],
   "source": [
    "from commonfunctions import *\n",
    "import skimage\n",
    "%matplotlib inline\n",
    "%load_ext autoreload\n",
    "%autoreload 2"
   ]
  },
  {
   "cell_type": "code",
   "execution_count": 6,
   "metadata": {},
   "outputs": [],
   "source": [
    "def paper_binary_transfer(gray_image): # gray-scale from 0-1\n",
    "    return_image = np.copy(gray_image)\n",
    "    thresh = threshold_otsu(return_image)\n",
    "    for i in range(0,gray_image.shape[0]):\n",
    "        for j in range(0,gray_image.shape[1]):\n",
    "            if gray_image[i][j] > thresh :\n",
    "                return_image[i][j] = 0\n",
    "            else :\n",
    "                return_image[i][j] = 1\n",
    "                \n",
    "    return return_image"
   ]
  },
  {
   "cell_type": "code",
   "execution_count": 5,
   "metadata": {},
   "outputs": [],
   "source": [
    "def make_it_white_background(rgb_image, binarized_image ):\n",
    "    return_image_rgb = np.copy((rgb_image))\n",
    "    for i in range (0,binarized_image.shape[0]):\n",
    "        for j in range(0,binarized_image.shape[1]):\n",
    "            if binarized_image[i][j] == 1:\n",
    "                return_image_rgb[i][j] = rgb_image[i][j]\n",
    "            else:\n",
    "                return_image_rgb[i][j] = [255,255,255]\n",
    "                \n",
    "    return return_image_rgb"
   ]
  },
  {
   "cell_type": "code",
   "execution_count": 20,
   "metadata": {},
   "outputs": [
    {
     "name": "stdout",
     "output_type": "stream",
     "text": [
      "Enter name of the input image: case4\n",
      "Creation of the directory C:\\Users\\mahmo\\Documents\\Image processing\\project\\case4_Colored failed\n"
     ]
    },
    {
     "data": {
      "image/png": "[encoded data removed]",
      "text/plain": [
       "<Figure size 432x288 with 1 Axes>"
      ]
     },
     "metadata": {
      "needs_background": "light"
     },
     "output_type": "display_data"
    },
    {
     "name": "stdout",
     "output_type": "stream",
     "text": [
      "[255, 255, 255]\n",
      "dict_keys(['[156 144 128]', '[81 48  0]', '[ 26  74 114]', '[91 67 33]', '[ 0  0 62]', '[134 166 201]', '[255 127 114]', '[255 100  98]', '[255  87  92]', '[255  70 107]', '[255 117 117]', '[135 105  83]', '[16  0  0]', '[ 87 129 170]', '[255  51  57]', '[255  43  38]', '[255  55  86]', '[255  53   0]', '[255   0   0]', '[255   0  33]', '[255 135 168]', '[255  23  29]', '[255 103 126]', '[255 124 157]', '[67 33  0]', '[ 0 48 92]', '[255 118 106]', '[255  20  13]', '[255 125  89]', '[255  41  80]', '[255 139 139]', '[255  97  64]', '[255   0  46]', '[255 129 103]', '[255  31  25]', '[255 114  75]', '[255   0  21]', '[ 0  0 38]', '[255  99  90]', '[255 104 142]', '[255  69  49]', '[255 120 167]', '[255 100  56]', '[166 113  96]', '[37  0  0]', '[ 52 108 157]', '[155 156 157]', '[255  98 133]', '[255  80  75]', '[255  75  48]', '[255  75 117]', '[255 110 144]', '[75 52 16]', '[ 0 38 96]', '[150 122  91]', '[57 49 43]', '[36 37 38]', '[ 99 131 153]', '[113 101  75]', '[0 0 0]', '[114 153 186]', '[120  91  49]', '[255  52 127]', '[48  0  0]', '[128 128 129]', '[86 86 86]', '[ 76  91 142]', '[105  89  85]', '[81 82 96]', '[115 126 164]', '[77 67 47]', '[255 108 160]', '[ 0  0 76]', '[76 65 43]', '[36 30 15]', '[ 59  74 109]', '[181 139 118]', '[65 18 12]', '[255 128  65]', '[ 0  0 19]', '[255  89 142]', '[255  17  96]', '[ 0  0 52]', '[255  57  75]', '[255 126 127]', '[255  54  65]', '[169 152 139]', '[167 145 118]', '[ 81 105 128]', '[140 121  93]', '[35 47 63]', '[110 126 142]', '[108 106 107]', '[255  60 115]', '[199 152  94]', '[  0  45 102]', '[21 21 21]', '[ 4 27 42]', '[36 14  0]', '[125  83  59]', '[48 70 97]', '[255 140  96]', '[255   0  63]', '[145  76  58]', '[163 102   0]', '[ 0  0 27]', '[117  40  29]', '[162 122  70]', '[54 35 16]', '[206 151  79]', '[126  73   0]', '[49 20  3]', '[ 0 33 60]', '[ 23  35 101]', '[ 0  0 92]', '[ 40  73 129]', '[ 0 39 64]', '[148  82  27]', '[24  0  0]', '[118  60  45]', '[134  97  49]', '[163  91  77]', '[159 113  52]', '[84 45 26]', '[ 77  96 130]', '[117  52  32]', '[13 47 76]', '[76 14  0]', '[ 0  0 65]', '[117  81  34]', '[187 126 108]', '[180 118  68]', '[148  78  22]', '[97 52  0]'])\n"
     ]
    }
   ],
   "source": [
    "input_name = input(\"Enter name of the input image: \")\n",
    "input_path  = \"colored_cases/\" + input_name + \".jpeg\"\n",
    "\n",
    "path = os.getcwd()\n",
    "path = str(path+\"\\\\\"+input_name+\"_Colored\")\n",
    "try:\n",
    "    os.mkdir(path)\n",
    "except OSError:\n",
    "    print (\"Creation of the directory %s failed\" % path)\n",
    "else:\n",
    "    print (\"Successfully created the directory %s \" % path)\n",
    "\n",
    "    \n",
    "input_image_rgb = np.array(io.imread(input_path))\n",
    "#print(\"Image rgb shape\" , input_image_rgb.shape)\n",
    "#print(\"input image rgb\" , input_image_rgb)\n",
    "\n",
    "gray_scale_image = np.array((rgb2gray(input_image_rgb) * 255).astype(np.uint8))\n",
    "gray_scale_image = gray_scale_image / 255\n",
    "\n",
    "my_final_img = paper_binary_transfer(gray_scale_image)\n",
    "\n",
    "white_background_image = make_it_white_background(input_image_rgb,my_final_img)\n",
    "show_images([white_background_image])\n",
    "colors_in_pic = {}\n",
    "print(list(white_background_image[100][100]))\n",
    "for i in range(0,my_final_img.shape[0]):\n",
    "    for j in range(0, my_final_img.shape[1]):\n",
    "        if list(white_background_image[i][j]) != [255,255,255]:\n",
    "            current_color = str(white_background_image[i][j])\n",
    "            if current_color in colors_in_pic:\n",
    "                colors_in_pic[current_color].append([i,j])\n",
    "            else:\n",
    "                colors_in_pic[current_color] = []\n",
    "                colors_in_pic[current_color].append([i,j])\n",
    "                \n",
    "print(colors_in_pic.keys())\n",
    "            \n"
   ]
  },
  {
   "cell_type": "code",
   "execution_count": null,
   "metadata": {},
   "outputs": [],
   "source": []
  }
 ],
 "metadata": {
  "kernelspec": {
   "display_name": "Python 3",
   "language": "python",
   "name": "python3"
  },
  "language_info": {
   "codemirror_mode": {
    "name": "ipython",
    "version": 3
   },
   "file_extension": ".py",
   "mimetype": "text/x-python",
   "name": "python",
   "nbconvert_exporter": "python",
   "pygments_lexer": "ipython3",
   "version": "3.7.0"
  }
 },
 "nbformat": 4,
 "nbformat_minor": 2
}
