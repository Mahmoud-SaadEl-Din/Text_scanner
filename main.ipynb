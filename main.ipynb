{
 "cells": [
  {
   "cell_type": "code",
   "execution_count": 2,
   "metadata": {},
   "outputs": [],
   "source": [
    "# Read image and uniform the scale\n",
    "\n",
    "# Shadow + Low Brightness (DONE)\n",
    "\n",
    "# Shear ( DONE )\n",
    "\n",
    "# Binarization ( Depend on if paper only in the background or not )  (DONE)\n",
    "\n",
    "# edge detection (DONE)\n",
    "\n",
    "# Hough Transform  (DONE)\n",
    "\n",
    "# orientation rotation  (DONE)\n",
    "\n",
    "# invertion \n",
    "\n",
    "# Color detection"
   ]
  },
  {
   "cell_type": "code",
   "execution_count": 3,
   "metadata": {},
   "outputs": [],
   "source": [
    "from commonfunctions import *\n",
    "import skimage\n",
    "%matplotlib inline\n",
    "%load_ext autoreload\n",
    "%autoreload 2"
   ]
  },
  {
   "cell_type": "code",
   "execution_count": 4,
   "metadata": {},
   "outputs": [],
   "source": [
    "def paper_binary_transfer(gray_image): # gray-scale from 0-1\n",
    "    return_image = np.copy(gray_image)\n",
    "    thresh = threshold_otsu(return_image)\n",
    "    for i in range(0,gray_image.shape[0]):\n",
    "        for j in range(0,gray_image.shape[1]):\n",
    "            if gray_image[i][j] > thresh :\n",
    "                return_image[i][j] = 0\n",
    "            else :\n",
    "                return_image[i][j] = 1\n",
    "                \n",
    "    return return_image"
   ]
  },
  {
   "cell_type": "code",
   "execution_count": 5,
   "metadata": {},
   "outputs": [],
   "source": [
    "def sobel_imp(image,threshold):\n",
    "    output_x = np.copy(image)\n",
    "    output_y = np.copy(image)\n",
    "    output = np.copy(image)\n",
    "    \n",
    "    f1 = np.array([\n",
    "        [ -1,0,1],\n",
    "        [ -2,0,2],\n",
    "        [ -1,0,1]\n",
    "    ])\n",
    "    f2 = np.array([\n",
    "        [ -1,-2,-1],\n",
    "        [ 0,0,0],\n",
    "        [ 1,2,1]\n",
    "    ])\n",
    "    \n",
    "    output_x = convolve2d(image,f2)\n",
    "    output_y = convolve2d(image,f1)\n",
    "    \n",
    "    \n",
    "    for x in range(0,image.shape[0]):\n",
    "        for y in range(0,image.shape[1]):\n",
    "            output[x][y] = np.sqrt(((output_x[x][y]**2)+(output_y[x][y]**2)))\n",
    "            if output[x][y] > threshold:\n",
    "                output[x][y] = 1\n",
    "            else :\n",
    "                output[x][y] = 0\n",
    "        \n",
    "    return output"
   ]
  },
  {
   "cell_type": "code",
   "execution_count": 6,
   "metadata": {},
   "outputs": [],
   "source": [
    "def most_frequent(List): \n",
    "    counter = 0\n",
    "    num = List[0] \n",
    "      \n",
    "    for i in List: \n",
    "        curr_frequency = List.count(i) \n",
    "        if(curr_frequency> counter): \n",
    "            counter = curr_frequency \n",
    "            num = i \n",
    "  \n",
    "    return num "
   ]
  },
  {
   "cell_type": "code",
   "execution_count": 7,
   "metadata": {},
   "outputs": [],
   "source": [
    "def hough(temp_image):\n",
    "    image = temp_image\n",
    "    \n",
    "    tested_angles = np.linspace(-np.pi/2 , np.pi/2, 360)\n",
    "    h, theta, d = hough_line(image, theta=tested_angles)\n",
    "    \n",
    "    fig, axes = plt.subplots(1, 3, figsize=(20, 6))\n",
    "    ax = axes.ravel()\n",
    "\n",
    "    ax[0].imshow(image, cmap=cm.gray)\n",
    "    ax[0].set_title('Input image')\n",
    "    ax[0].set_axis_off()\n",
    "\n",
    "    ax[1].imshow(np.log(1 + h),\n",
    "                 extent=[np.rad2deg(theta[-1]), np.rad2deg(theta[0]), d[-1], d[0]],\n",
    "                 cmap=cm.gray, aspect=1/1.5)\n",
    "    ax[1].set_title('Hough transform')\n",
    "    ax[1].set_xlabel('Angles (degrees)')\n",
    "    ax[1].set_ylabel('Distance (pixels)')\n",
    "    ax[1].axis('image')\n",
    "\n",
    "    ax[2].imshow(image, cmap=cm.gray)\n",
    "    origin = np.array((0, image.shape[1]))\n",
    "    _, angle, dist = hough_line_peaks(h, theta, d)\n",
    "    list_of_angles = []\n",
    "\n",
    "    \n",
    "    for i in range(0,len(angle)):\n",
    "        list_of_angles.append(float(\"{0:.1f}\".format(np.rad2deg(angle[i]))))\n",
    "    final_angle = most_frequent(list_of_angles)\n",
    "    \n",
    "    for _, angle, dist in zip(*hough_line_peaks(h, theta, d)):\n",
    "        y0, y1 = (dist - origin * np.cos(angle)) / np.sin(angle)\n",
    "        ax[2].plot(origin, (y0, y1), '-r')\n",
    "    ax[2].set_xlim(origin)\n",
    "    ax[2].set_ylim((image.shape[0], 0))\n",
    "    ax[2].set_axis_off()\n",
    "    ax[2].set_title('Detected lines')\n",
    "    plt.tight_layout()\n",
    "    plt.show()\n",
    "    return final_angle"
   ]
  },
  {
   "cell_type": "code",
   "execution_count": 8,
   "metadata": {},
   "outputs": [],
   "source": [
    "def make_it_white_background(rgb_image, binarized_image ):\n",
    "    return_image_rgb = np.copy((rgb_image))\n",
    "    for i in range (0,binarized_image.shape[0]):\n",
    "        for j in range(0,binarized_image.shape[1]):\n",
    "            if binarized_image[i][j] == 1:\n",
    "                return_image_rgb[i][j] = rgb_image[i][j]\n",
    "            else:\n",
    "                return_image_rgb[i][j] = [255,255,255]\n",
    "                \n",
    "    return return_image_rgb"
   ]
  },
  {
   "cell_type": "code",
   "execution_count": 10,
   "metadata": {},
   "outputs": [
    {
     "name": "stdout",
     "output_type": "stream",
     "text": [
      "Enter name of the input image: analysis2\n",
      "Enter Extension of the input image: .png\n",
      "Successfully created the directory C:\\Users\\mahmo\\Documents\\Image processing\\project\\analysis2 \n"
     ]
    },
    {
     "data": {
      "image/png": "[encoded data removed]",
      "text/plain": [
       "<Figure size 1440x432 with 3 Axes>"
      ]
     },
     "metadata": {
      "needs_background": "light"
     },
     "output_type": "display_data"
    },
    {
     "name": "stdout",
     "output_type": "stream",
     "text": [
      "Rotation angle in degree:  -90.8\n"
     ]
    }
   ],
   "source": [
    "input_name = input(\"Enter name of the input image: \")\n",
    "extension = input(\"Enter Extension of the input image: \")\n",
    "input_path  = \"final_cases/\" + input_name + extension\n",
    "\n",
    "path = os.getcwd()\n",
    "path = str(path+\"\\\\\"+input_name)\n",
    "try:\n",
    "    os.mkdir(path)\n",
    "except OSError:\n",
    "    print (\"Creation of the directory %s failed\" % path)\n",
    "else:\n",
    "    print (\"Successfully created the directory %s \" % path)\n",
    "\n",
    "input_image = io.imread(input_path)\n",
    "gray_scale_image = np.array((rgb2gray(input_image) * 255).astype(np.uint8))\n",
    "gray_scale_image = gray_scale_image / 255\n",
    "\n",
    "output_path = str(input_name + \"/1_gray_scale.jpeg\")\n",
    "io.imsave(output_path,np.array((gray_scale_image*255).astype(np.uint8)))\n",
    "\n",
    "\n",
    "\n",
    "\n",
    "\n",
    "img = cv2.imread(input_path, -1)\n",
    "rgb_planes = cv2.split(img)\n",
    "result_planes = []\n",
    "result_norm_planes = []\n",
    "for plane in rgb_planes:\n",
    "    dilated_img = cv2.dilate(plane, np.ones((3,3), np.uint8))\n",
    "    bg_img = cv2.medianBlur(dilated_img, 21)\n",
    "    diff_img = 255 - cv2.absdiff(plane, bg_img)\n",
    "    norm_img = cv2.normalize(diff_img,None, alpha=0, beta=255, norm_type=cv2.NORM_MINMAX, dtype=cv2.CV_8UC1)\n",
    "    result_planes.append(diff_img)\n",
    "    result_norm_planes.append(norm_img)\n",
    "result = cv2.merge(result_planes)\n",
    "result_norm = cv2.merge(result_norm_planes)\n",
    "result_norm_gray = rgb2gray(result_norm)\n",
    "io.imsave(str(input_name + \"/2_shadow_removal.jpeg\"),np.array((result_norm_gray*255).astype(np.uint8)))\n",
    "\n",
    "\n",
    "\n",
    "my_final_img = paper_binary_transfer(result_norm_gray)\n",
    "io.imsave(str(input_name + \"/3_binarization.jpeg\"),np.array((my_final_img*255).astype(np.uint8)))\n",
    "white_background = make_it_white_background(input_image,my_final_img)\n",
    "\n",
    "\n",
    "edged_sobel = sobel_imp(my_final_img,0.6) # return image from 0-1\n",
    "io.imsave(str(input_name + \"/4_sobel_edge.jpeg\"),np.array((edged_sobel*255).astype(np.uint8)))\n",
    "\n",
    "\n",
    "angle_of_rotation = hough(edged_sobel)\n",
    "\n",
    "rotation_angle = -(90- angle_of_rotation)    \n",
    "print(\"Rotation angle in degree: \",rotation_angle)\n",
    "    \n",
    "rotated_image = rotate(white_background, rotation_angle, resize=True,preserve_range=True,mode='constant',cval=255)\n",
    "io.imsave(str(input_name + \"/5_rotation.jpeg\"),np.array((rotated_image).astype(np.uint8)))\n"
   ]
  },
  {
   "cell_type": "code",
   "execution_count": null,
   "metadata": {},
   "outputs": [],
   "source": []
  }
 ],
 "metadata": {
  "kernelspec": {
   "display_name": "Python 3",
   "language": "python",
   "name": "python3"
  },
  "language_info": {
   "codemirror_mode": {
    "name": "ipython",
    "version": 3
   },
   "file_extension": ".py",
   "mimetype": "text/x-python",
   "name": "python",
   "nbconvert_exporter": "python",
   "pygments_lexer": "ipython3",
   "version": "3.7.0"
  }
 },
 "nbformat": 4,
 "nbformat_minor": 2
}
